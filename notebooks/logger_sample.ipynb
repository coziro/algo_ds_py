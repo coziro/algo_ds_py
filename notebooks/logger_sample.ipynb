{
 "cells": [
  {
   "cell_type": "code",
   "execution_count": 1,
   "id": "6d438673",
   "metadata": {},
   "outputs": [],
   "source": [
    "import sys\n",
    "\n",
    "sys.path.append('../src')\n",
    "from algo_ds_py import Logger"
   ]
  },
  {
   "cell_type": "markdown",
   "id": "ae56e702",
   "metadata": {},
   "source": [
    "## Create logger"
   ]
  },
  {
   "cell_type": "code",
   "execution_count": 2,
   "id": "97226e84",
   "metadata": {},
   "outputs": [],
   "source": [
    "logger = Logger(True)"
   ]
  },
  {
   "cell_type": "markdown",
   "id": "9a498376",
   "metadata": {},
   "source": [
    "## Print Variables"
   ]
  },
  {
   "cell_type": "code",
   "execution_count": 3,
   "id": "102bcc0b",
   "metadata": {},
   "outputs": [],
   "source": [
    "x = 3\n",
    "y = 2\n",
    "nums = [3, 4, 1, 2, 9]"
   ]
  },
  {
   "cell_type": "code",
   "execution_count": 4,
   "id": "ef7ea718",
   "metadata": {},
   "outputs": [
    {
     "name": "stdout",
     "output_type": "stream",
     "text": [
      "In(list): ['', \"import sys\\n\\nsys.path.append('../src')\\nfrom algo_ds_py import Logger\", 'logger = Logger(True)', 'x = 3\\ny = 2\\nnums = [3, 4, 1, 2, 9]', '# print all global variables\\nlogger.print_global_vars()']\n",
      "Out(dict): {}\n",
      "sys(module): <module 'sys' (built-in)>\n",
      "logger(Logger): Logger (enabled=True)\n",
      "x(int): 3\n",
      "y(int): 2\n",
      "nums(list): [3, 4, 1, 2, 9]\n"
     ]
    }
   ],
   "source": [
    "# print all global variables\n",
    "logger.print_global_vars()"
   ]
  },
  {
   "cell_type": "code",
   "execution_count": 5,
   "id": "c99ea39e",
   "metadata": {},
   "outputs": [
    {
     "name": "stdout",
     "output_type": "stream",
     "text": [
      "x(int): 3\n",
      "nums(list): [3, 4, 1, 2, 9]\n"
     ]
    }
   ],
   "source": [
    "# print specific variables\n",
    "logger.print_global_vars(var_names=['x', 'nums'])"
   ]
  },
  {
   "cell_type": "code",
   "execution_count": 6,
   "id": "60c92811",
   "metadata": {},
   "outputs": [
    {
     "name": "stdout",
     "output_type": "stream",
     "text": [
      "---- input ----\n",
      "x(int): 3\n",
      "y(int): 2\n",
      "nums(list): [3, 4, 1, 2, 9]\n"
     ]
    }
   ],
   "source": [
    "# print variables with header\n",
    "logger.print_global_vars('input', var_names=['x', 'y', 'nums'])"
   ]
  },
  {
   "cell_type": "markdown",
   "id": "cc67fee9",
   "metadata": {},
   "source": [
    "## Print Text"
   ]
  },
  {
   "cell_type": "code",
   "execution_count": 7,
   "id": "660d75c7",
   "metadata": {},
   "outputs": [
    {
     "name": "stdout",
     "output_type": "stream",
     "text": [
      "---- header ----\n"
     ]
    }
   ],
   "source": [
    "logger.print_header('header')"
   ]
  },
  {
   "cell_type": "code",
   "execution_count": 8,
   "id": "24eb48e8",
   "metadata": {},
   "outputs": [
    {
     "name": "stdout",
     "output_type": "stream",
     "text": [
      "-- sub header --\n"
     ]
    }
   ],
   "source": [
    "logger.print_subheader('sub header')"
   ]
  },
  {
   "cell_type": "code",
   "execution_count": 9,
   "id": "7cd318a9",
   "metadata": {},
   "outputs": [
    {
     "name": "stdout",
     "output_type": "stream",
     "text": [
      "text\n"
     ]
    }
   ],
   "source": [
    "logger.print_text('text')"
   ]
  },
  {
   "cell_type": "markdown",
   "id": "ebd05265",
   "metadata": {},
   "source": [
    "## Pretty Print"
   ]
  },
  {
   "cell_type": "code",
   "execution_count": 10,
   "id": "ec9f971b",
   "metadata": {},
   "outputs": [],
   "source": [
    "matrix = [\n",
    "    [1, 2, 3],\n",
    "    [4, 5, 6],\n",
    "    [7, 8, 9],\n",
    "]"
   ]
  },
  {
   "cell_type": "code",
   "execution_count": 11,
   "id": "9002c316",
   "metadata": {},
   "outputs": [
    {
     "name": "stdout",
     "output_type": "stream",
     "text": [
      "matrix (list):\n",
      "  0: [1, 2, 3]\n",
      "  1: [4, 5, 6]\n",
      "  2: [7, 8, 9]\n"
     ]
    }
   ],
   "source": [
    "logger = Logger(True, pprint=True)\n",
    "logger.print_global_vars(var_names=['matrix'])"
   ]
  },
  {
   "cell_type": "markdown",
   "id": "b783b3ce",
   "metadata": {},
   "source": [
    "## Print Local Variables"
   ]
  },
  {
   "cell_type": "code",
   "execution_count": 12,
   "id": "57adf9ab",
   "metadata": {},
   "outputs": [
    {
     "name": "stdout",
     "output_type": "stream",
     "text": [
      "n(int): 5\n",
      "n(int): 4\n",
      "n(int): 3\n",
      "n(int): 2\n",
      "n(int): 1\n",
      "n(int): 2\n",
      "n(int): 3\n",
      "n(int): 2\n",
      "n(int): 1\n"
     ]
    },
    {
     "data": {
      "text/plain": [
       "3"
      ]
     },
     "execution_count": 12,
     "metadata": {},
     "output_type": "execute_result"
    }
   ],
   "source": [
    "def fibonacci(n: int) -> int:\n",
    "    logger.print_vars(locals(), var_names=['n'])\n",
    "    if n == 1:\n",
    "        return 0\n",
    "    elif n == 2:\n",
    "        return 1\n",
    "    else:\n",
    "        return fibonacci(n - 1) + fibonacci(n - 2)\n",
    "\n",
    "\n",
    "fibonacci(5)"
   ]
  },
  {
   "cell_type": "code",
   "execution_count": null,
   "id": "0f50c400",
   "metadata": {},
   "outputs": [],
   "source": []
  }
 ],
 "metadata": {
  "kernelspec": {
   "display_name": "algo-ds-py-GwZGOhBY-py3.11",
   "language": "python",
   "name": "python3"
  },
  "language_info": {
   "codemirror_mode": {
    "name": "ipython",
    "version": 3
   },
   "file_extension": ".py",
   "mimetype": "text/x-python",
   "name": "python",
   "nbconvert_exporter": "python",
   "pygments_lexer": "ipython3",
   "version": "3.11.6"
  }
 },
 "nbformat": 4,
 "nbformat_minor": 5
}
